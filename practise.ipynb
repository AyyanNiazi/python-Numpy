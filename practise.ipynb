{
 "cells": [
  {
   "cell_type": "code",
   "execution_count": 7,
   "metadata": {},
   "outputs": [
    {
     "name": "stdout",
     "output_type": "stream",
     "text": [
      "[0. 0. 0. 0. 0.]\n",
      "[0. 0. 1. 0. 0.]\n",
      "[10  9  8  7  6  5  4  3  2  1  0]\n"
     ]
    }
   ],
   "source": [
    "import numpy as np\n",
    "\n",
    "a = np.zeros(5)\n",
    "print(a)\n",
    "a[2]=1\n",
    "print(a)\n",
    "b= np.arange(0,11)\n",
    "# above statement used for print element reverse , last one is step \n",
    "b=b[::-1]\n",
    "print(b)\n"
   ]
  },
  {
   "cell_type": "code",
   "execution_count": null,
   "metadata": {},
   "outputs": [],
   "source": []
  },
  {
   "cell_type": "code",
   "execution_count": 14,
   "metadata": {},
   "outputs": [
    {
     "name": "stdout",
     "output_type": "stream",
     "text": [
      "[[0 1 2]\n",
      " [3 4 5]\n",
      " [6 7 8]]\n"
     ]
    }
   ],
   "source": [
    "# (3X3) MATRICES USING ARANGE METHOD we can also make 3d array with reshape\n",
    "c= np.arange(9).reshape(3,3)\n",
    "print(c)"
   ]
  },
  {
   "cell_type": "code",
   "execution_count": 24,
   "metadata": {},
   "outputs": [
    {
     "name": "stdout",
     "output_type": "stream",
     "text": [
      "[[0 1 2]\n",
      " [3 4 5]\n",
      " [6 7 8]]\n"
     ]
    }
   ],
   "source": [
    "# Find indice for non zero element\n",
    "d1 = np.nonzero([1,2,3,0,8,0,7,8,0,9,223]);\n",
    "print(c);"
   ]
  },
  {
   "cell_type": "code",
   "execution_count": 27,
   "metadata": {},
   "outputs": [
    {
     "name": "stdout",
     "output_type": "stream",
     "text": [
      "[[1. 0. 0.]\n",
      " [0. 1. 0.]\n",
      " [0. 0. 1.]]\n"
     ]
    }
   ],
   "source": [
    "# create (3x3) identity matrix\n",
    "ab= np.eye(3);\n",
    "print(ab);"
   ]
  },
  {
   "cell_type": "code",
   "execution_count": 30,
   "metadata": {},
   "outputs": [
    {
     "name": "stdout",
     "output_type": "stream",
     "text": [
      "[[0.60155544 0.8779546 ]\n",
      " [0.00303568 0.79062232]]\n"
     ]
    }
   ],
   "source": [
    "# min max value from random value\n",
    "d = np.random.random((2,2));\n",
    "Zmin,Zmax = d.min(), d.max();\n",
    "print(d);"
   ]
  },
  {
   "cell_type": "code",
   "execution_count": 28,
   "metadata": {},
   "outputs": [
    {
     "name": "stdout",
     "output_type": "stream",
     "text": [
      "[[[0.22108149 0.00492107 0.83004496]\n",
      "  [0.62589996 0.0797786  0.08992373]\n",
      "  [0.66008956 0.92216942 0.79214271]]\n",
      "\n",
      " [[0.15877351 0.31391256 0.77910617]\n",
      "  [0.5298185  0.30643887 0.77293837]\n",
      "  [0.10462054 0.56119592 0.39964526]]\n",
      "\n",
      " [[0.9135963  0.50635704 0.65421983]\n",
      "  [0.18826554 0.4433592  0.05775061]\n",
      "  [0.16607209 0.59319835 0.9572867 ]]]\n"
     ]
    }
   ],
   "source": [
    "# (3x3x3) random value\n",
    "aq = np.random.random((3,3,3));\n",
    "print(aq)"
   ]
  },
  {
   "cell_type": "code",
   "execution_count": 33,
   "metadata": {},
   "outputs": [
    {
     "name": "stdout",
     "output_type": "stream",
     "text": [
      "[0.14354341 0.5095206  0.76419005 0.6305324  0.88851816 0.97134389\n",
      " 0.90121103 0.97861306 0.64312043 0.80716844 0.65078211 0.20806181\n",
      " 0.04894403 0.05804787 0.14231474 0.68604356 0.05052677 0.02936238\n",
      " 0.50672226 0.94758014 0.7437331  0.00835323 0.1932319  0.50975588\n",
      " 0.30727793 0.52421749 0.52653032 0.20028363 0.672195   0.45724617]\n"
     ]
    }
   ],
   "source": [
    "# Create a random vector of size 30 and find the mean value (★☆☆)\n",
    "e = np.random.random(30);\n",
    "e.mean();\n",
    "print(e);"
   ]
  },
  {
   "cell_type": "code",
   "execution_count": 35,
   "metadata": {},
   "outputs": [
    {
     "name": "stdout",
     "output_type": "stream",
     "text": [
      "[[1. 1. 1. 1. 1. 1. 1. 1. 1. 1.]\n",
      " [1. 0. 0. 0. 0. 0. 0. 0. 0. 1.]\n",
      " [1. 0. 0. 0. 0. 0. 0. 0. 0. 1.]\n",
      " [1. 0. 0. 0. 0. 0. 0. 0. 0. 1.]\n",
      " [1. 0. 0. 0. 0. 0. 0. 0. 0. 1.]\n",
      " [1. 0. 0. 0. 0. 0. 0. 0. 0. 1.]\n",
      " [1. 0. 0. 0. 0. 0. 0. 0. 0. 1.]\n",
      " [1. 0. 0. 0. 0. 0. 0. 0. 0. 1.]\n",
      " [1. 0. 0. 0. 0. 0. 0. 0. 0. 1.]\n",
      " [1. 1. 1. 1. 1. 1. 1. 1. 1. 1.]]\n"
     ]
    }
   ],
   "source": [
    "# Create a 2d array with 1 on the border and 0 inside (★☆☆)\n",
    "f = np.ones((10,10));\n",
    "f[1:-1,1:-1] = 0;\n",
    "print(f);\n"
   ]
  },
  {
   "cell_type": "code",
   "execution_count": 6,
   "metadata": {},
   "outputs": [
    {
     "name": "stdout",
     "output_type": "stream",
     "text": [
      "[[0 0 0 0 0]\n",
      " [1 0 0 0 0]\n",
      " [0 2 0 0 0]\n",
      " [0 0 3 0 0]\n",
      " [0 0 0 4 0]]\n"
     ]
    }
   ],
   "source": [
    "import numpy as np\n",
    "# Create a 5x5 matrix with values 1,2,3,4 just below the diagonal (★☆☆)\n",
    "\n",
    "g= np.diag(1+np.arange(4),k=-1);\n",
    "print(g);"
   ]
  },
  {
   "cell_type": "code",
   "execution_count": 12,
   "metadata": {},
   "outputs": [
    {
     "name": "stdout",
     "output_type": "stream",
     "text": [
      "[[0 1 0 1 0 1 0 1]\n",
      " [1 0 1 0 1 0 1 0]\n",
      " [0 1 0 1 0 1 0 1]\n",
      " [1 0 1 0 1 0 1 0]\n",
      " [0 1 0 1 0 1 0 1]\n",
      " [1 0 1 0 1 0 1 0]\n",
      " [0 1 0 1 0 1 0 1]\n",
      " [1 0 1 0 1 0 1 0]]\n"
     ]
    }
   ],
   "source": [
    "# Create a 8x8 matrix and fill it with a checkerboard pattern (★☆☆)\n",
    "\n",
    "h = np.zeros((8,8),dtype=int);\n",
    "h[1::2,::2]= 1;\n",
    "h[::2,1::2] = 1;\n",
    "print(h);\n"
   ]
  },
  {
   "cell_type": "code",
   "execution_count": 14,
   "metadata": {},
   "outputs": [
    {
     "name": "stdout",
     "output_type": "stream",
     "text": [
      "(1, 5, 4)\n"
     ]
    }
   ],
   "source": [
    "# Consider a (6,7,8) shape array, what is the index (x,y,z) of the 100th element?\n",
    "i = np.unravel_index(100,(6,7,8));\n",
    "print(i);\n"
   ]
  },
  {
   "cell_type": "code",
   "execution_count": 21,
   "metadata": {},
   "outputs": [
    {
     "name": "stdout",
     "output_type": "stream",
     "text": [
      "[[0 1 0 1 0 1 0 1]\n",
      " [1 0 1 0 1 0 1 0]\n",
      " [0 1 0 1 0 1 0 1]\n",
      " [1 0 1 0 1 0 1 0]\n",
      " [0 1 0 1 0 1 0 1]\n",
      " [1 0 1 0 1 0 1 0]\n",
      " [0 1 0 1 0 1 0 1]\n",
      " [1 0 1 0 1 0 1 0]]\n"
     ]
    }
   ],
   "source": [
    "# Create a checkerboard 8x8 matrix using the tile function (★☆☆)\n",
    "\n",
    "\n",
    "j = np.tile(np.array([[0,1],[1,0]]),(4,4));\n",
    "print(j);\n"
   ]
  },
  {
   "cell_type": "code",
   "execution_count": 24,
   "metadata": {},
   "outputs": [
    {
     "name": "stdout",
     "output_type": "stream",
     "text": [
      "[[0.89193496 0.8217731  0.2220896  0.41595891 0.31950259]\n",
      " [0.76270331 0.82294432 0.34524185 0.94934435 0.2740808 ]\n",
      " [0.93333245 0.58124188 0.32085393 0.48279282 0.04855031]\n",
      " [0.57692428 0.70417346 0.24790536 0.77695431 0.40307487]\n",
      " [0.75187086 0.19974686 0.3263967  0.44171676 0.59597583]]\n"
     ]
    }
   ],
   "source": [
    "# Normalize a 5x5 random matrix (★☆☆)\n",
    "\n",
    "k = np.random.random((5,5));\n",
    "print(k);"
   ]
  },
  {
   "cell_type": "code",
   "execution_count": 33,
   "metadata": {},
   "outputs": [
    {
     "name": "stdout",
     "output_type": "stream",
     "text": [
      "[('r', 'u1'), ('g', 'u1'), ('b', 'u1'), ('a', 'u1')]\n"
     ]
    }
   ],
   "source": [
    "# Create a custom dtype that describes a color as four unisgned bytes (RGBA) (★☆☆)\n",
    "\n",
    "color = np.dtype([(\"r\", np.ubyte,1),\n",
    "                  (\"g\", np.ubyte,1),\n",
    "                  (\"b\", np.ubyte,1),\n",
    "                  (\"a\", np.ubyte,1),\n",
    "                 ])\n",
    "print(color);"
   ]
  },
  {
   "cell_type": "code",
   "execution_count": 35,
   "metadata": {},
   "outputs": [
    {
     "name": "stdout",
     "output_type": "stream",
     "text": [
      "[[3. 3.]\n",
      " [3. 3.]\n",
      " [3. 3.]\n",
      " [3. 3.]\n",
      " [3. 3.]]\n"
     ]
    }
   ],
   "source": [
    "# Multiply a 5x3 matrix by a 3x2 matrix (real matrix product) (★☆☆)\n",
    "\n",
    "l = np.dot(np.ones((5,3)), np.ones((3,2)));\n",
    "print(l);"
   ]
  },
  {
   "cell_type": "code",
   "execution_count": 42,
   "metadata": {},
   "outputs": [
    {
     "name": "stdout",
     "output_type": "stream",
     "text": [
      "[  0   1   2   3   4   5   6   7  -8  -9 -10]\n"
     ]
    }
   ],
   "source": [
    "# Given a 1D array, negate all elements which are between 3 and 8, in place. (★☆☆)\n",
    "\n",
    "m = np.arange(11);\n",
    "m[(3 < m) &(8<= m)] *= -1;\n",
    "print(m)"
   ]
  },
  {
   "cell_type": "code",
   "execution_count": null,
   "metadata": {},
   "outputs": [],
   "source": [
    "# What is the output of the following script? (★☆☆)\n",
    "\n"
   ]
  }
 ],
 "metadata": {
  "kernelspec": {
   "display_name": "Python 3",
   "language": "python",
   "name": "python3"
  },
  "language_info": {
   "codemirror_mode": {
    "name": "ipython",
    "version": 3
   },
   "file_extension": ".py",
   "mimetype": "text/x-python",
   "name": "python",
   "nbconvert_exporter": "python",
   "pygments_lexer": "ipython3",
   "version": "3.7.2"
  }
 },
 "nbformat": 4,
 "nbformat_minor": 2
}
